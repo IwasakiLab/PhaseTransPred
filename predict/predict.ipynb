{
 "cells": [
  {
   "cell_type": "code",
   "execution_count": null,
   "id": "53ad2ebe-1781-4d6a-bd93-ecc28eb02ba2",
   "metadata": {},
   "outputs": [],
   "source": [
    "from sklearn.svm import SVC\n",
    "import pandas as pd\n",
    "import numpy as np\n",
    "from sklearn.pipeline import make_pipeline\n",
    "from sklearn.preprocessing import StandardScaler"
   ]
  },
  {
   "cell_type": "code",
   "execution_count": null,
   "id": "30cf2844-4702-45de-8bed-5a8be6cec8ec",
   "metadata": {},
   "outputs": [],
   "source": [
    "mat_client=np.load(\"path/to/npy/file/of/clients\", allow_pickle=True)\n",
    "mat_nonLLPS=np.load(\"path/to/npy/file/of/nonLLPS\", allow_pickle=True)\n",
    "list_client=list(mat_client.item().values())\n",
    "list_nonLLPS=list(mat_nonLLPS.item().values())"
   ]
  },
  {
   "cell_type": "code",
   "execution_count": null,
   "id": "85756bb5-84de-4be2-bbd1-e6c3bb4d07bf",
   "metadata": {},
   "outputs": [],
   "source": [
    "x=np.array(list_client+list_nonLLPS)\n",
    "y=np.array([True]*len(list_client) + [False]*len(list_nonLLPS))\n",
    "model=make_pipeline(StandardScaler(), SVC(class_weight=\"balanced\"))\n",
    "model.fit(x,y)"
   ]
  },
  {
   "cell_type": "code",
   "execution_count": null,
   "id": "6ab9c9d6-42ac-4452-9006-487753a916a9",
   "metadata": {},
   "outputs": [],
   "source": [
    "mat_sample=np.load(\"path/to/npy/file\", allow_pickle=True)\n",
    "x_sample=np.array(mat_sample.item().values())\n",
    "y_pred=model.predict(x_sample)"
   ]
  },
  {
   "cell_type": "code",
   "execution_count": null,
   "id": "574d7184-208e-4714-bc15-4e5903789a80",
   "metadata": {},
   "outputs": [],
   "source": [
    "retults=pd.DataFrame({\"protein_name\":np.array(mat_sample.item().keys()), \"result\":y_pred})\n",
    "print(results)"
   ]
  }
 ],
 "metadata": {
  "kernelspec": {
   "display_name": "Python 3 (ipykernel)",
   "language": "python",
   "name": "python3"
  },
  "language_info": {
   "codemirror_mode": {
    "name": "ipython",
    "version": 3
   },
   "file_extension": ".py",
   "mimetype": "text/x-python",
   "name": "python",
   "nbconvert_exporter": "python",
   "pygments_lexer": "ipython3",
   "version": "3.9.12"
  }
 },
 "nbformat": 4,
 "nbformat_minor": 5
}
