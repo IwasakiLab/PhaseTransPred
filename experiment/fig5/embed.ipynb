{
 "cells": [
  {
   "cell_type": "code",
   "execution_count": null,
   "id": "192d3e31-6b71-4556-85e2-83287aa61eb2",
   "metadata": {},
   "outputs": [],
   "source": [
    "from bio_embeddings.embed.prottrans_t5_embedder import ProtTransT5XLU50Embedder\n",
    "from Bio import SeqIO\n",
    "import sys\n",
    "import numpy as np\n",
    "import pandas as pd"
   ]
  },
  {
   "cell_type": "code",
   "execution_count": null,
   "id": "3e74c09d-d0fe-4ec1-be06-b3e48a93f52e",
   "metadata": {},
   "outputs": [],
   "source": [
    "embedder = ProtTransT5XLU50Embedder(device='cuda:0')"
   ]
  },
  {
   "cell_type": "code",
   "execution_count": null,
   "id": "dd62aa55-7de9-4f96-97c7-3db18cb73ac6",
   "metadata": {},
   "outputs": [],
   "source": [
    "#Embed human proteins\n",
    "sequences = []\n",
    "for record in SeqIO.parse(\"../data/swiss_prot_human_220916.fasta\", \"fasta\"):\n",
    "    sequences.append(record)\n",
    "embeddings = embedder.embed_many([str(s.seq) for s in sequences])\n",
    "embeddings=list(embeddings)\n",
    "ids=[str(s.id) for s in sequences]\n",
    "dict_mat={x:y for x,y in zip(ids,embeddings)}\n",
    "mat_mean={k:dict_mat[k].mean(axis=0) for k in dict_mat.keys()}"
   ]
  },
  {
   "cell_type": "code",
   "execution_count": null,
   "id": "0627b6fd-f9a5-4667-b416-6d53880437e3",
   "metadata": {},
   "outputs": [],
   "source": [
    "with open(\"../data/human_client.txt\") as f:\n",
    "    client = set(f.read().splitlines())\n",
    "with open(\"../data/human_scaffold.txt\") as f:\n",
    "    scaffold = set(f.read().splitlines())\n",
    "with open(\"../data/human_nonllps.txt\") as f:\n",
    "    nonllps = set(f.read().splitlines())"
   ]
  },
  {
   "cell_type": "code",
   "execution_count": null,
   "id": "734a4830-997e-4e67-ab65-7a9af269225b",
   "metadata": {},
   "outputs": [],
   "source": [
    "client_dict={}\n",
    "scaffold_dict={}\n",
    "nonllps_dict={}\n",
    "for k in mat_mean.keys():\n",
    "    uniprotid=k.split(\"|\")[1]\n",
    "    if uniprotid in client:\n",
    "        client_dict[k]=mat_mean[k]\n",
    "    elif uniprotid in scaffold:\n",
    "        scaffold_dict[k]=mat_mean[k]\n",
    "    elif uniprotid in nonllps:\n",
    "        nonllps_dict[k]=mat_mean[k]\n",
    "np.save(\"../data/PTT5XLU50_human_client.npy\", client_dict)\n",
    "np.save(\"../data/PTT5XLU50_human_scaffold.npy\", scaffold_dict)\n",
    "np.save(\"../data/PTT5XLU50_human_nonllps.npy\", nonllps_dict)"
   ]
  },
  {
   "cell_type": "code",
   "execution_count": null,
   "id": "10653e30-2c0b-42c2-9868-836cbdc75f91",
   "metadata": {},
   "outputs": [],
   "source": [
    "with open(\"../data/yeast_client.txt\") as f:\n",
    "    yeast_client = set(f.read().splitlines())\n",
    "with open(\"../data/yeast_nonllps.txt\") as f:\n",
    "    yeast_nonllps = set(f.read().splitlines())\n",
    "with open(\"../data/mouse_client.txt\") as f:\n",
    "    mouse_client = set(f.read().splitlines())\n",
    "with open(\"../data/mouse_nonllps.txt\") as f:\n",
    "    mouse_nonllps = set(f.read().splitlines())\n",
    "with open(\"../data/arabi_client.txt\") as f:\n",
    "    arabi_client = set(f.read().splitlines())\n",
    "with open(\"../data/arabi_nonllps.txt\") as f:\n",
    "    arabi_nonllps = set(f.read().splitlines())"
   ]
  },
  {
   "cell_type": "code",
   "execution_count": null,
   "id": "973f52eb-a651-49ab-901b-6051fd82b674",
   "metadata": {},
   "outputs": [],
   "source": [
    "#Embed yeast proteins\n",
    "sequences = []\n",
    "for record in SeqIO.parse(\"../data/swiss_prot_yeast_220916.fasta\", \"fasta\"):\n",
    "    sequences.append(record)\n",
    "embeddings = embedder.embed_many([str(s.seq) for s in sequences])\n",
    "embeddings=list(embeddings)\n",
    "ids=[str(s.id) for s in sequences]\n",
    "dict_mat={x:y for x,y in zip(ids,embeddings)}\n",
    "mat_mean={k:dict_mat[k].mean(axis=0) for k in dict_mat.keys()}"
   ]
  },
  {
   "cell_type": "code",
   "execution_count": null,
   "id": "48e0ef47-2d51-454e-a12c-1a7eb5d83d7c",
   "metadata": {},
   "outputs": [],
   "source": [
    "client_dict={}\n",
    "nonllps_dict={}\n",
    "for k in mat_mean.keys():\n",
    "    uniprotid=k.split(\"|\")[1]\n",
    "    if uniprotid in yeast_client:\n",
    "        client_dict[k]=mat_mean[k]\n",
    "    elif uniprotid in yeast_nonllps:\n",
    "        nonllps_dict[k]=mat_mean[k]\n",
    "np.save(\"PTT5XLU50_yeast_client_nohomolog.npy\", client_dict)\n",
    "np.save(\"PTT5XLU50_yeast_nonllps_nohomolog.npy\", nonllps_dict)"
   ]
  },
  {
   "cell_type": "code",
   "execution_count": null,
   "id": "d77c66d1-e320-4cfd-96e8-ade25f638a34",
   "metadata": {},
   "outputs": [],
   "source": [
    "#Embed mouse proteins\n",
    "sequences = []\n",
    "for record in SeqIO.parse(\"../data/swiss_prot_mouse_221216.fasta\", \"fasta\"):\n",
    "    sequences.append(record)\n",
    "embeddings = embedder.embed_many([str(s.seq) for s in sequences])\n",
    "embeddings=list(embeddings)\n",
    "ids=[str(s.id) for s in sequences]\n",
    "dict_mat={x:y for x,y in zip(ids,embeddings)}\n",
    "mat_mean={k:dict_mat[k].mean(axis=0) for k in dict_mat.keys()}"
   ]
  },
  {
   "cell_type": "code",
   "execution_count": null,
   "id": "ebe6ac35-07b3-42eb-a988-b1e182ff563c",
   "metadata": {},
   "outputs": [],
   "source": [
    "client_dict={}\n",
    "nonllps_dict={}\n",
    "for k in mat_mean.keys():\n",
    "    uniprotid=k.split(\"|\")[1]\n",
    "    if uniprotid in yeast_client:\n",
    "        client_dict[k]=mat_mean[k]\n",
    "    elif uniprotid in yeast_nonllps:\n",
    "        nonllps_dict[k]=mat_mean[k]\n",
    "np.save(\"../data/PTT5XLU50_mouse_client_nohomolog.npy\", client_dict)\n",
    "np.save(\"../data/PTT5XLU50_mouse_nonllps_nohomolog.npy\", nonllps_dict)"
   ]
  },
  {
   "cell_type": "code",
   "execution_count": null,
   "id": "40a29d41-6a9c-44a1-b248-09259dec1723",
   "metadata": {},
   "outputs": [],
   "source": [
    "#Embed Arabidopsis proteins\n",
    "sequences = []\n",
    "for record in SeqIO.parse(\"../data/swiss_prot_arabi_221216.fasta\", \"fasta\"):\n",
    "    sequences.append(record)\n",
    "embeddings = embedder.embed_many([str(s.seq) for s in sequences])\n",
    "embeddings=list(embeddings)\n",
    "ids=[str(s.id) for s in sequences]\n",
    "dict_mat={x:y for x,y in zip(ids,embeddings)}\n",
    "mat_mean={k:dict_mat[k].mean(axis=0) for k in dict_mat.keys()}"
   ]
  },
  {
   "cell_type": "code",
   "execution_count": null,
   "id": "a02b0942-ca80-44cf-8286-10323593ff8c",
   "metadata": {},
   "outputs": [],
   "source": [
    "client_dict={}\n",
    "nonllps_dict={}\n",
    "for k in mat_mean.keys():\n",
    "    uniprotid=k.split(\"|\")[1]\n",
    "    if uniprotid in arabi_client:\n",
    "        client_dict[k]=mat_mean[k]\n",
    "    elif uniprotid in arabi_nonllps:\n",
    "        nonllps_dict[k]=mat_mean[k]\n",
    "np.save(\"../data/PTT5XLU50_arabi_client_nohomolog.npy\", client_dict)\n",
    "np.save(\"../data/PTT5XLU50_arabi_nonllps_nohomolog.npy\", nonllps_dict)"
   ]
  }
 ],
 "metadata": {
  "kernelspec": {
   "display_name": "Python 3 (ipykernel)",
   "language": "python",
   "name": "python3"
  },
  "language_info": {
   "codemirror_mode": {
    "name": "ipython",
    "version": 3
   },
   "file_extension": ".py",
   "mimetype": "text/x-python",
   "name": "python",
   "nbconvert_exporter": "python",
   "pygments_lexer": "ipython3",
   "version": "3.9.12"
  }
 },
 "nbformat": 4,
 "nbformat_minor": 5
}
